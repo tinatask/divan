{
 "cells": [
  {
   "cell_type": "code",
   "execution_count": 20,
   "metadata": {},
   "outputs": [],
   "source": [
    "from universal_format import UniversalFormat\n",
    "import numpy as np\n",
    "from scipy.optimize import curve_fit\n",
    "from pathlib import Path\n",
    "import matplotlib.pyplot as plt"
   ]
  },
  {
   "cell_type": "code",
   "execution_count": 23,
   "metadata": {},
   "outputs": [],
   "source": [
    "p = Path(\"D:/Github/divan/raw files for marc program/JIM_CYC_64225_NEWARE_c0_43V_20C_170216_923_2VC_DTD_14_3_stitched.txt\")\n",
    "#f = 'JIM_CYC_64225_NEWARE_c0_43V_20C_170216_923_2VC_DTD_14_3_stitched.txt'\n",
    "#path = p / f\n",
    "#fpath = str(path)\n",
    "#dstpath = '/blah/blahblah/'"
   ]
  },
  {
   "cell_type": "code",
   "execution_count": 24,
   "metadata": {},
   "outputs": [
    {
     "ename": "TypeError",
     "evalue": "'WindowsPath' object is not subscriptable",
     "output_type": "error",
     "traceback": [
      "Traceback \u001b[1;36m(most recent call last)\u001b[0m:\n",
      "  File \u001b[0;32m\"<ipython-input-24-11f2770971b5>\"\u001b[0m, line \u001b[0;32m1\u001b[0m, in \u001b[0;35m<module>\u001b[0m\n    data = UniversalFormat(p)\n",
      "\u001b[1;36m  File \u001b[1;32m\"D:\\Github\\divan\\divan-main\\divan-main\\linux\\universal_format.py\"\u001b[1;36m, line \u001b[1;32m30\u001b[1;36m, in \u001b[1;35m__init__\u001b[1;36m\u001b[0m\n\u001b[1;33m    self.genericfile = genericfile[:-4]\u001b[0m\n",
      "\u001b[1;31mTypeError\u001b[0m\u001b[1;31m:\u001b[0m 'WindowsPath' object is not subscriptable\n"
     ]
    }
   ],
   "source": [
    "data = UniversalFormat(p)"
   ]
  },
  {
   "cell_type": "code",
   "execution_count": null,
   "metadata": {},
   "outputs": [],
   "source": [
    "t, dis_cap = data.get_discap(rate='C/20', x_var='time', normcyc=3)"
   ]
  },
  {
   "cell_type": "code",
   "execution_count": 8,
   "metadata": {},
   "outputs": [
    {
     "ename": "NameError",
     "evalue": "name 't' is not defined",
     "output_type": "error",
     "traceback": [
      "Traceback \u001b[1;36m(most recent call last)\u001b[0m:\n",
      "\u001b[1;36m  File \u001b[1;32m\"<ipython-input-8-e99f13a9f86f>\"\u001b[1;36m, line \u001b[1;32m1\u001b[1;36m, in \u001b[1;35m<module>\u001b[1;36m\u001b[0m\n\u001b[1;33m    plt.plot(t, dis_cap, \"o\")\u001b[0m\n",
      "\u001b[1;31mNameError\u001b[0m\u001b[1;31m:\u001b[0m name 't' is not defined\n"
     ]
    }
   ],
   "source": [
    "plt.plot(t, dis_cap, \"o\")"
   ]
  },
  {
   "cell_type": "code",
   "execution_count": 9,
   "metadata": {},
   "outputs": [],
   "source": [
    "def model(t, A, B):\n",
    "    return 1 - A*t**(1/2) - B*t"
   ]
  },
  {
   "cell_type": "code",
   "execution_count": 10,
   "metadata": {},
   "outputs": [
    {
     "ename": "NameError",
     "evalue": "name 't' is not defined",
     "output_type": "error",
     "traceback": [
      "Traceback \u001b[1;36m(most recent call last)\u001b[0m:\n",
      "\u001b[1;36m  File \u001b[1;32m\"<ipython-input-10-10bbfabc5d7e>\"\u001b[1;36m, line \u001b[1;32m1\u001b[1;36m, in \u001b[1;35m<module>\u001b[1;36m\u001b[0m\n\u001b[1;33m    t, dis_cap = t[2:], dis_cap[2:]\u001b[0m\n",
      "\u001b[1;31mNameError\u001b[0m\u001b[1;31m:\u001b[0m name 't' is not defined\n"
     ]
    }
   ],
   "source": [
    "t, dis_cap = t[2:], dis_cap[2:]"
   ]
  },
  {
   "cell_type": "code",
   "execution_count": 11,
   "metadata": {},
   "outputs": [
    {
     "ename": "NameError",
     "evalue": "name 't' is not defined",
     "output_type": "error",
     "traceback": [
      "Traceback \u001b[1;36m(most recent call last)\u001b[0m:\n",
      "\u001b[1;36m  File \u001b[1;32m\"<ipython-input-11-9e3105aefee9>\"\u001b[1;36m, line \u001b[1;32m1\u001b[1;36m, in \u001b[1;35m<module>\u001b[1;36m\u001b[0m\n\u001b[1;33m    popt, pcov = curve_fit(model, t, dis_cap, method='trf', max_nfev=5000,\u001b[0m\n",
      "\u001b[1;31mNameError\u001b[0m\u001b[1;31m:\u001b[0m name 't' is not defined\n"
     ]
    }
   ],
   "source": [
    "popt, pcov = curve_fit(model, t, dis_cap, method='trf', max_nfev=5000,\n",
    "                       ftol=1e-14, xtol=None, gtol=None)\n",
    "print(\"A = {0:.8f}, B = {1:.10f}\".format(popt[0], popt[1]))"
   ]
  },
  {
   "cell_type": "code",
   "execution_count": 12,
   "metadata": {},
   "outputs": [
    {
     "ename": "OSError",
     "evalue": "'grapher' not found in the style library and input is not a valid URL or path; see `style.available` for list of available styles",
     "output_type": "error",
     "traceback": [
      "Traceback \u001b[1;36m(most recent call last)\u001b[0m:\n",
      "  File \u001b[0;32m\"D:\\Anaconda\\lib\\site-packages\\matplotlib\\style\\core.py\"\u001b[0m, line \u001b[0;32m111\u001b[0m, in \u001b[0;35muse\u001b[0m\n    rc = rc_params_from_file(style, use_default_template=False)\n",
      "  File \u001b[0;32m\"D:\\Anaconda\\lib\\site-packages\\matplotlib\\__init__.py\"\u001b[0m, line \u001b[0;32m985\u001b[0m, in \u001b[0;35mrc_params_from_file\u001b[0m\n    config_from_file = _rc_params_in_file(fname, fail_on_error)\n",
      "  File \u001b[0;32m\"D:\\Anaconda\\lib\\site-packages\\matplotlib\\__init__.py\"\u001b[0m, line \u001b[0;32m916\u001b[0m, in \u001b[0;35m_rc_params_in_file\u001b[0m\n    with _open_file_or_url(fname) as fd:\n",
      "  File \u001b[0;32m\"D:\\Anaconda\\lib\\contextlib.py\"\u001b[0m, line \u001b[0;32m112\u001b[0m, in \u001b[0;35m__enter__\u001b[0m\n    return next(self.gen)\n",
      "\u001b[1;36m  File \u001b[1;32m\"D:\\Anaconda\\lib\\site-packages\\matplotlib\\__init__.py\"\u001b[1;36m, line \u001b[1;32m902\u001b[1;36m, in \u001b[1;35m_open_file_or_url\u001b[1;36m\u001b[0m\n\u001b[1;33m    with open(fname, encoding=encoding) as f:\u001b[0m\n",
      "\u001b[1;31mFileNotFoundError\u001b[0m\u001b[1;31m:\u001b[0m [Errno 2] No such file or directory: 'grapher'\n",
      "\nDuring handling of the above exception, another exception occurred:\n",
      "Traceback \u001b[1;36m(most recent call last)\u001b[0m:\n",
      "  File \u001b[0;32m\"<ipython-input-12-063eac1edaf7>\"\u001b[0m, line \u001b[0;32m1\u001b[0m, in \u001b[0;35m<module>\u001b[0m\n    with plt.style.context('grapher'):\n",
      "  File \u001b[0;32m\"D:\\Anaconda\\lib\\contextlib.py\"\u001b[0m, line \u001b[0;32m112\u001b[0m, in \u001b[0;35m__enter__\u001b[0m\n    return next(self.gen)\n",
      "  File \u001b[0;32m\"D:\\Anaconda\\lib\\site-packages\\matplotlib\\style\\core.py\"\u001b[0m, line \u001b[0;32m147\u001b[0m, in \u001b[0;35mcontext\u001b[0m\n    use(style)\n",
      "\u001b[1;36m  File \u001b[1;32m\"D:\\Anaconda\\lib\\site-packages\\matplotlib\\style\\core.py\"\u001b[1;36m, line \u001b[1;32m117\u001b[1;36m, in \u001b[1;35muse\u001b[1;36m\u001b[0m\n\u001b[1;33m    \"available styles\".format(style))\u001b[0m\n",
      "\u001b[1;31mOSError\u001b[0m\u001b[1;31m:\u001b[0m 'grapher' not found in the style library and input is not a valid URL or path; see `style.available` for list of available styles\n"
     ]
    }
   ],
   "source": [
    "with plt.style.context('grapher'):\n",
    "    plt.plot(t, dis_cap, \"o\")\n",
    "    plt.plot(t, model(t, popt[0], popt[1]))\n",
    "    plt.xlabel('Time (h)')\n",
    "    plt.ylabel('Normalized capacity')\n",
    "    #plt.ylim(0, 1)"
   ]
  },
  {
   "cell_type": "code",
   "execution_count": 9,
   "metadata": {},
   "outputs": [
    {
     "name": "stdout",
     "output_type": "stream",
     "text": [
      "[  496.11638889   725.47027778   951.89083333  1177.06027778  1400.99638889\n",
      "  1623.81083333  1845.58388889  2066.19083333  2285.66083333  2504.10222222\n",
      "  2721.56611111  2937.75972222  3153.13583333  3367.50555556  3579.82388889\n",
      "  3792.16972222  4003.49111111  4213.895     ]\n"
     ]
    }
   ],
   "source": [
    "print(t)"
   ]
  },
  {
   "cell_type": "code",
   "execution_count": 10,
   "metadata": {},
   "outputs": [
    {
     "name": "stdout",
     "output_type": "stream",
     "text": [
      "[ 1.          0.99006612  0.98278475  0.97542887  0.96948007  0.96278767\n",
      "  0.95722121  0.95154371  0.94772872  0.94144396  0.93615161  0.93127112\n",
      "  0.92743786  0.92257845  0.91806203  0.9139406   0.91011999  0.90606182]\n"
     ]
    }
   ],
   "source": [
    "print(dis_cap)"
   ]
  },
  {
   "cell_type": "code",
   "execution_count": null,
   "metadata": {},
   "outputs": [],
   "source": []
  }
 ],
 "metadata": {
  "kernelspec": {
   "display_name": "Python 3 (Spyder)",
   "language": "python3",
   "name": "python3"
  },
  "language_info": {
   "codemirror_mode": {
    "name": "ipython",
    "version": 3
   },
   "file_extension": ".py",
   "mimetype": "text/x-python",
   "name": "python",
   "nbconvert_exporter": "python",
   "pygments_lexer": "ipython3",
   "version": "3.7.6"
  }
 },
 "nbformat": 4,
 "nbformat_minor": 5
}
